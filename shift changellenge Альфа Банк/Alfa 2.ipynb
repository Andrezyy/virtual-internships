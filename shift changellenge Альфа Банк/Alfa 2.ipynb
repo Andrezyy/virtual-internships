{
 "cells": [
  {
   "cell_type": "code",
   "execution_count": 5,
   "id": "e2977ec1-8d98-4a58-b028-35aa6eb347d0",
   "metadata": {},
   "outputs": [],
   "source": [
    "import pandas as pd\n",
    "import numpy as np\n",
    "import matplotlib.pyplot as plt\n",
    "import seaborn as sns\n",
    "from scipy import stats"
   ]
  },
  {
   "cell_type": "code",
   "execution_count": 8,
   "id": "e8e08d34-7344-4730-9604-135945b27a6d",
   "metadata": {},
   "outputs": [],
   "source": [
    "data = pd.read_csv(\"Data.csv\")\n",
    "desc = pd.read_csv(\"Description.csv\", header=None)"
   ]
  },
  {
   "cell_type": "code",
   "execution_count": 9,
   "id": "855b06f3-8d8e-4c94-9725-8fef8c98103c",
   "metadata": {},
   "outputs": [
    {
     "name": "stdout",
     "output_type": "stream",
     "text": [
      "X1: Сумма предоставленного кредита (NT доллар): включает как индивидуальный потребительский кредит, так и его/ее семейный (дополнительный) кредит.\n",
      "\n",
      "X2: Пол (1 = мужской; 2 = женский).\n",
      "\n",
      "X3: Образование (1 = аспирантура, 2 = университет, 3 = средняя школа, 4 = другое).\n",
      "\n",
      "X4: Семейное положение (1 = женат, 2 = холост, 3 = другие).\n",
      "\n",
      "X5: Возраст (год).\n",
      "\n",
      "X6 - X11: История прошлых платежей. Были отслежены записи прошлых ежемесячных платежей (с апреля по сентябрь 2005 г.) следующим образом: X6 = статус погашения в сентябре 2005 г.; X7 = статус погашения в августе 2005 г.; . . .;X11 = статус погашения в апреле 2005 г. \n",
      "\n",
      "Шкала измерения для статуса погашения: -1 = платить должным образом; 1 = отсрочка платежа на один месяц; 2 = отсрочка платежа на два месяца; . . .; 8 = отсрочка платежа на восемь месяцев; 9 = задержка платежа на девять месяцев и более.\n",
      "\n",
      "X12-X17: Сумма выписки по счету (NT доллар). X12 = сумма выписки по векселю в сентябре 2005 г.; X13 = сумма выписки по векселю за август 2005 г.; . . .; X17 = сумма выписки по векселю в апреле 2005 года.\n",
      "\n",
      "X18-X23: Сумма предыдущего платежа (NT доллар). X18 = сумма, выплаченная в сентябре 2005 г.; X19 = сумма, выплаченная в августе 2005 г.; . . .;X23 = сумма, выплаченная в апреле 2005 г.\n",
      "\n",
      "Y — вероятность дефолта заемщика в след.месяце (0 — нет, 1 — да)\n",
      "\n"
     ]
    }
   ],
   "source": [
    "for i in range(desc.shape[0]):\n",
    "    print(desc.loc[i,0]+'\\n')"
   ]
  },
  {
   "cell_type": "code",
   "execution_count": 10,
   "id": "0ad39a63-8ac5-4296-92a9-674e8df6d978",
   "metadata": {},
   "outputs": [
    {
     "data": {
      "text/html": [
       "<div>\n",
       "<style scoped>\n",
       "    .dataframe tbody tr th:only-of-type {\n",
       "        vertical-align: middle;\n",
       "    }\n",
       "\n",
       "    .dataframe tbody tr th {\n",
       "        vertical-align: top;\n",
       "    }\n",
       "\n",
       "    .dataframe thead th {\n",
       "        text-align: right;\n",
       "    }\n",
       "</style>\n",
       "<table border=\"1\" class=\"dataframe\">\n",
       "  <thead>\n",
       "    <tr style=\"text-align: right;\">\n",
       "      <th></th>\n",
       "      <th>Unnamed: 0</th>\n",
       "      <th>X1</th>\n",
       "      <th>X2</th>\n",
       "      <th>X3</th>\n",
       "      <th>X4</th>\n",
       "      <th>X5</th>\n",
       "      <th>X6</th>\n",
       "      <th>X7</th>\n",
       "      <th>X8</th>\n",
       "      <th>X9</th>\n",
       "      <th>...</th>\n",
       "      <th>X15</th>\n",
       "      <th>X16</th>\n",
       "      <th>X17</th>\n",
       "      <th>X18</th>\n",
       "      <th>X19</th>\n",
       "      <th>X20</th>\n",
       "      <th>X21</th>\n",
       "      <th>X22</th>\n",
       "      <th>X23</th>\n",
       "      <th>Y</th>\n",
       "    </tr>\n",
       "  </thead>\n",
       "  <tbody>\n",
       "    <tr>\n",
       "      <th>0</th>\n",
       "      <td>ID</td>\n",
       "      <td>LIMIT_BAL</td>\n",
       "      <td>SEX</td>\n",
       "      <td>EDUCATION</td>\n",
       "      <td>MARRIAGE</td>\n",
       "      <td>AGE</td>\n",
       "      <td>PAY_0</td>\n",
       "      <td>PAY_2</td>\n",
       "      <td>PAY_3</td>\n",
       "      <td>PAY_4</td>\n",
       "      <td>...</td>\n",
       "      <td>BILL_AMT4</td>\n",
       "      <td>BILL_AMT5</td>\n",
       "      <td>BILL_AMT6</td>\n",
       "      <td>PAY_AMT1</td>\n",
       "      <td>PAY_AMT2</td>\n",
       "      <td>PAY_AMT3</td>\n",
       "      <td>PAY_AMT4</td>\n",
       "      <td>PAY_AMT5</td>\n",
       "      <td>PAY_AMT6</td>\n",
       "      <td>default payment next month</td>\n",
       "    </tr>\n",
       "    <tr>\n",
       "      <th>1</th>\n",
       "      <td>1</td>\n",
       "      <td>20000</td>\n",
       "      <td>2</td>\n",
       "      <td>2</td>\n",
       "      <td>1</td>\n",
       "      <td>24</td>\n",
       "      <td>2</td>\n",
       "      <td>2</td>\n",
       "      <td>-1</td>\n",
       "      <td>-1</td>\n",
       "      <td>...</td>\n",
       "      <td>0</td>\n",
       "      <td>0</td>\n",
       "      <td>0</td>\n",
       "      <td>0</td>\n",
       "      <td>689</td>\n",
       "      <td>0</td>\n",
       "      <td>0</td>\n",
       "      <td>0</td>\n",
       "      <td>0</td>\n",
       "      <td>1</td>\n",
       "    </tr>\n",
       "    <tr>\n",
       "      <th>2</th>\n",
       "      <td>2</td>\n",
       "      <td>120000</td>\n",
       "      <td>2</td>\n",
       "      <td>2</td>\n",
       "      <td>2</td>\n",
       "      <td>26</td>\n",
       "      <td>-1</td>\n",
       "      <td>2</td>\n",
       "      <td>0</td>\n",
       "      <td>0</td>\n",
       "      <td>...</td>\n",
       "      <td>3272</td>\n",
       "      <td>3455</td>\n",
       "      <td>3261</td>\n",
       "      <td>0</td>\n",
       "      <td>1000</td>\n",
       "      <td>1000</td>\n",
       "      <td>1000</td>\n",
       "      <td>0</td>\n",
       "      <td>2000</td>\n",
       "      <td>1</td>\n",
       "    </tr>\n",
       "    <tr>\n",
       "      <th>3</th>\n",
       "      <td>3</td>\n",
       "      <td>90000</td>\n",
       "      <td>2</td>\n",
       "      <td>2</td>\n",
       "      <td>2</td>\n",
       "      <td>34</td>\n",
       "      <td>0</td>\n",
       "      <td>0</td>\n",
       "      <td>0</td>\n",
       "      <td>0</td>\n",
       "      <td>...</td>\n",
       "      <td>14331</td>\n",
       "      <td>14948</td>\n",
       "      <td>15549</td>\n",
       "      <td>1518</td>\n",
       "      <td>1500</td>\n",
       "      <td>1000</td>\n",
       "      <td>1000</td>\n",
       "      <td>1000</td>\n",
       "      <td>5000</td>\n",
       "      <td>0</td>\n",
       "    </tr>\n",
       "    <tr>\n",
       "      <th>4</th>\n",
       "      <td>4</td>\n",
       "      <td>50000</td>\n",
       "      <td>2</td>\n",
       "      <td>2</td>\n",
       "      <td>1</td>\n",
       "      <td>37</td>\n",
       "      <td>0</td>\n",
       "      <td>0</td>\n",
       "      <td>0</td>\n",
       "      <td>0</td>\n",
       "      <td>...</td>\n",
       "      <td>28314</td>\n",
       "      <td>28959</td>\n",
       "      <td>29547</td>\n",
       "      <td>2000</td>\n",
       "      <td>2019</td>\n",
       "      <td>1200</td>\n",
       "      <td>1100</td>\n",
       "      <td>1069</td>\n",
       "      <td>1000</td>\n",
       "      <td>0</td>\n",
       "    </tr>\n",
       "  </tbody>\n",
       "</table>\n",
       "<p>5 rows × 25 columns</p>\n",
       "</div>"
      ],
      "text/plain": [
       "  Unnamed: 0         X1   X2         X3        X4   X5     X6     X7     X8  \\\n",
       "0         ID  LIMIT_BAL  SEX  EDUCATION  MARRIAGE  AGE  PAY_0  PAY_2  PAY_3   \n",
       "1          1      20000    2          2         1   24      2      2     -1   \n",
       "2          2     120000    2          2         2   26     -1      2      0   \n",
       "3          3      90000    2          2         2   34      0      0      0   \n",
       "4          4      50000    2          2         1   37      0      0      0   \n",
       "\n",
       "      X9  ...        X15        X16        X17       X18       X19       X20  \\\n",
       "0  PAY_4  ...  BILL_AMT4  BILL_AMT5  BILL_AMT6  PAY_AMT1  PAY_AMT2  PAY_AMT3   \n",
       "1     -1  ...          0          0          0         0       689         0   \n",
       "2      0  ...       3272       3455       3261         0      1000      1000   \n",
       "3      0  ...      14331      14948      15549      1518      1500      1000   \n",
       "4      0  ...      28314      28959      29547      2000      2019      1200   \n",
       "\n",
       "        X21       X22       X23                           Y  \n",
       "0  PAY_AMT4  PAY_AMT5  PAY_AMT6  default payment next month  \n",
       "1         0         0         0                           1  \n",
       "2      1000         0      2000                           1  \n",
       "3      1000      1000      5000                           0  \n",
       "4      1100      1069      1000                           0  \n",
       "\n",
       "[5 rows x 25 columns]"
      ]
     },
     "execution_count": 10,
     "metadata": {},
     "output_type": "execute_result"
    }
   ],
   "source": [
    "data.head()"
   ]
  },
  {
   "cell_type": "markdown",
   "id": "151238d0-5d38-4d22-a2f9-20b603d01e16",
   "metadata": {},
   "source": [
    "# EDA"
   ]
  },
  {
   "cell_type": "markdown",
   "id": "227c8c16-6092-4643-9871-73c7de0a6885",
   "metadata": {},
   "source": [
    "- Выбрасываме 1ую строку с тезисным описанием и 1ый столбец с ID"
   ]
  },
  {
   "cell_type": "code",
   "execution_count": 11,
   "id": "551053db-b2e6-4f03-8628-7ceb6a9b2921",
   "metadata": {},
   "outputs": [],
   "source": [
    "data = data.iloc[1:,1:]"
   ]
  },
  {
   "cell_type": "markdown",
   "id": "32fcf67d-8fbb-4a44-a607-be5550c12b44",
   "metadata": {},
   "source": [
    "- Есть дизбаланс классов"
   ]
  },
  {
   "cell_type": "code",
   "execution_count": 12,
   "id": "1f73a5e5-87e4-4f25-a565-749e0c764847",
   "metadata": {},
   "outputs": [
    {
     "data": {
      "text/plain": [
       "0    0.7788\n",
       "1    0.2212\n",
       "Name: Y, dtype: float64"
      ]
     },
     "execution_count": 12,
     "metadata": {},
     "output_type": "execute_result"
    }
   ],
   "source": [
    "data.Y.value_counts(normalize=True)"
   ]
  },
  {
   "cell_type": "markdown",
   "id": "de9b7870-0e1f-40ac-9083-0490f76fe636",
   "metadata": {},
   "source": [
    "- NANов нет, все данные как строки, хотя не все они категориальные (X1, X5, Y, X12-X23 - ЧИСЛЕННЫЕ; X2, X3, X4, X6-X11 - КАТЕГОРИАЛЬНЫЕ)"
   ]
  },
  {
   "cell_type": "code",
   "execution_count": 13,
   "id": "02eba8f7-e23a-44d5-aa87-d619f46e4b89",
   "metadata": {},
   "outputs": [
    {
     "name": "stdout",
     "output_type": "stream",
     "text": [
      "<class 'pandas.core.frame.DataFrame'>\n",
      "RangeIndex: 30000 entries, 1 to 30000\n",
      "Data columns (total 24 columns):\n",
      " #   Column  Non-Null Count  Dtype \n",
      "---  ------  --------------  ----- \n",
      " 0   X1      30000 non-null  object\n",
      " 1   X2      30000 non-null  object\n",
      " 2   X3      30000 non-null  object\n",
      " 3   X4      30000 non-null  object\n",
      " 4   X5      30000 non-null  object\n",
      " 5   X6      30000 non-null  object\n",
      " 6   X7      30000 non-null  object\n",
      " 7   X8      30000 non-null  object\n",
      " 8   X9      30000 non-null  object\n",
      " 9   X10     30000 non-null  object\n",
      " 10  X11     30000 non-null  object\n",
      " 11  X12     30000 non-null  object\n",
      " 12  X13     30000 non-null  object\n",
      " 13  X14     30000 non-null  object\n",
      " 14  X15     30000 non-null  object\n",
      " 15  X16     30000 non-null  object\n",
      " 16  X17     30000 non-null  object\n",
      " 17  X18     30000 non-null  object\n",
      " 18  X19     30000 non-null  object\n",
      " 19  X20     30000 non-null  object\n",
      " 20  X21     30000 non-null  object\n",
      " 21  X22     30000 non-null  object\n",
      " 22  X23     30000 non-null  object\n",
      " 23  Y       30000 non-null  object\n",
      "dtypes: object(24)\n",
      "memory usage: 5.5+ MB\n"
     ]
    }
   ],
   "source": [
    "data.info()"
   ]
  },
  {
   "cell_type": "markdown",
   "id": "a88e7e75-de32-4db2-b11b-d6dc6430356f",
   "metadata": {},
   "source": [
    "- Преобразование типа данных численных признаков"
   ]
  },
  {
   "cell_type": "code",
   "execution_count": 14,
   "id": "4e97b742-e32f-4201-98d8-56e107860c49",
   "metadata": {},
   "outputs": [],
   "source": [
    "d = {'X1':'int', 'X5':'int', 'Y':'int'}\n",
    "for i in range(12,23+1):\n",
    "    d[f'X{i}']='int'\n",
    "data = data.astype(dtype=d)"
   ]
  },
  {
   "cell_type": "markdown",
   "id": "a77f7bd9-f75e-49f5-b395-dc0c9f802c96",
   "metadata": {},
   "source": [
    "- Изменение некоторых категориальных призанков, чтобы графики были нагляднее\n",
    "- Некоторые категориальные признаки имеют больше значений чем было описано, X4 имеет 4 значения, а описано 3; X3 имеет 7 значений, а описано 4. Все неописанные значения уйдут в \"Другое\""
   ]
  },
  {
   "cell_type": "code",
   "execution_count": 15,
   "id": "a654855f-3d29-457b-ab86-523425249b15",
   "metadata": {},
   "outputs": [],
   "source": [
    "def modify(x):\n",
    "    gender = {'1':'М', '2':'Ж'} #X2\n",
    "    edu = {'1':'Аспирантура','2':'Университет','3':'Ср. школа','4':'Другое','0':'Другое','5':'Другое','6':'Другое'} #X3\n",
    "    marr = {'1':'Женат','2':'Холост','3':'Другие', '0':'Другие'} #X4\n",
    "    x['X2'] = gender[x['X2']]\n",
    "    x['X3'] = edu[x['X3']]\n",
    "    x['X4'] = marr[x['X4']]\n",
    "    return x\n",
    "\n",
    "data = data.apply(func=modify, axis=1)"
   ]
  },
  {
   "cell_type": "code",
   "execution_count": 16,
   "id": "e9fbf5a3-74d3-437e-9ce1-250709e67c72",
   "metadata": {},
   "outputs": [
    {
     "data": {
      "text/html": [
       "<div>\n",
       "<style scoped>\n",
       "    .dataframe tbody tr th:only-of-type {\n",
       "        vertical-align: middle;\n",
       "    }\n",
       "\n",
       "    .dataframe tbody tr th {\n",
       "        vertical-align: top;\n",
       "    }\n",
       "\n",
       "    .dataframe thead th {\n",
       "        text-align: right;\n",
       "    }\n",
       "</style>\n",
       "<table border=\"1\" class=\"dataframe\">\n",
       "  <thead>\n",
       "    <tr style=\"text-align: right;\">\n",
       "      <th></th>\n",
       "      <th>X1</th>\n",
       "      <th>X2</th>\n",
       "      <th>X3</th>\n",
       "      <th>X4</th>\n",
       "      <th>X5</th>\n",
       "      <th>X6</th>\n",
       "      <th>X7</th>\n",
       "      <th>X8</th>\n",
       "      <th>X9</th>\n",
       "      <th>X10</th>\n",
       "      <th>...</th>\n",
       "      <th>X15</th>\n",
       "      <th>X16</th>\n",
       "      <th>X17</th>\n",
       "      <th>X18</th>\n",
       "      <th>X19</th>\n",
       "      <th>X20</th>\n",
       "      <th>X21</th>\n",
       "      <th>X22</th>\n",
       "      <th>X23</th>\n",
       "      <th>Y</th>\n",
       "    </tr>\n",
       "  </thead>\n",
       "  <tbody>\n",
       "    <tr>\n",
       "      <th>1</th>\n",
       "      <td>20000</td>\n",
       "      <td>Ж</td>\n",
       "      <td>Университет</td>\n",
       "      <td>Женат</td>\n",
       "      <td>24</td>\n",
       "      <td>2</td>\n",
       "      <td>2</td>\n",
       "      <td>-1</td>\n",
       "      <td>-1</td>\n",
       "      <td>-2</td>\n",
       "      <td>...</td>\n",
       "      <td>0</td>\n",
       "      <td>0</td>\n",
       "      <td>0</td>\n",
       "      <td>0</td>\n",
       "      <td>689</td>\n",
       "      <td>0</td>\n",
       "      <td>0</td>\n",
       "      <td>0</td>\n",
       "      <td>0</td>\n",
       "      <td>1</td>\n",
       "    </tr>\n",
       "    <tr>\n",
       "      <th>2</th>\n",
       "      <td>120000</td>\n",
       "      <td>Ж</td>\n",
       "      <td>Университет</td>\n",
       "      <td>Холост</td>\n",
       "      <td>26</td>\n",
       "      <td>-1</td>\n",
       "      <td>2</td>\n",
       "      <td>0</td>\n",
       "      <td>0</td>\n",
       "      <td>0</td>\n",
       "      <td>...</td>\n",
       "      <td>3272</td>\n",
       "      <td>3455</td>\n",
       "      <td>3261</td>\n",
       "      <td>0</td>\n",
       "      <td>1000</td>\n",
       "      <td>1000</td>\n",
       "      <td>1000</td>\n",
       "      <td>0</td>\n",
       "      <td>2000</td>\n",
       "      <td>1</td>\n",
       "    </tr>\n",
       "    <tr>\n",
       "      <th>3</th>\n",
       "      <td>90000</td>\n",
       "      <td>Ж</td>\n",
       "      <td>Университет</td>\n",
       "      <td>Холост</td>\n",
       "      <td>34</td>\n",
       "      <td>0</td>\n",
       "      <td>0</td>\n",
       "      <td>0</td>\n",
       "      <td>0</td>\n",
       "      <td>0</td>\n",
       "      <td>...</td>\n",
       "      <td>14331</td>\n",
       "      <td>14948</td>\n",
       "      <td>15549</td>\n",
       "      <td>1518</td>\n",
       "      <td>1500</td>\n",
       "      <td>1000</td>\n",
       "      <td>1000</td>\n",
       "      <td>1000</td>\n",
       "      <td>5000</td>\n",
       "      <td>0</td>\n",
       "    </tr>\n",
       "    <tr>\n",
       "      <th>4</th>\n",
       "      <td>50000</td>\n",
       "      <td>Ж</td>\n",
       "      <td>Университет</td>\n",
       "      <td>Женат</td>\n",
       "      <td>37</td>\n",
       "      <td>0</td>\n",
       "      <td>0</td>\n",
       "      <td>0</td>\n",
       "      <td>0</td>\n",
       "      <td>0</td>\n",
       "      <td>...</td>\n",
       "      <td>28314</td>\n",
       "      <td>28959</td>\n",
       "      <td>29547</td>\n",
       "      <td>2000</td>\n",
       "      <td>2019</td>\n",
       "      <td>1200</td>\n",
       "      <td>1100</td>\n",
       "      <td>1069</td>\n",
       "      <td>1000</td>\n",
       "      <td>0</td>\n",
       "    </tr>\n",
       "    <tr>\n",
       "      <th>5</th>\n",
       "      <td>50000</td>\n",
       "      <td>М</td>\n",
       "      <td>Университет</td>\n",
       "      <td>Женат</td>\n",
       "      <td>57</td>\n",
       "      <td>-1</td>\n",
       "      <td>0</td>\n",
       "      <td>-1</td>\n",
       "      <td>0</td>\n",
       "      <td>0</td>\n",
       "      <td>...</td>\n",
       "      <td>20940</td>\n",
       "      <td>19146</td>\n",
       "      <td>19131</td>\n",
       "      <td>2000</td>\n",
       "      <td>36681</td>\n",
       "      <td>10000</td>\n",
       "      <td>9000</td>\n",
       "      <td>689</td>\n",
       "      <td>679</td>\n",
       "      <td>0</td>\n",
       "    </tr>\n",
       "  </tbody>\n",
       "</table>\n",
       "<p>5 rows × 24 columns</p>\n",
       "</div>"
      ],
      "text/plain": [
       "       X1 X2           X3      X4  X5  X6 X7  X8  X9 X10  ...    X15    X16  \\\n",
       "1   20000  Ж  Университет   Женат  24   2  2  -1  -1  -2  ...      0      0   \n",
       "2  120000  Ж  Университет  Холост  26  -1  2   0   0   0  ...   3272   3455   \n",
       "3   90000  Ж  Университет  Холост  34   0  0   0   0   0  ...  14331  14948   \n",
       "4   50000  Ж  Университет   Женат  37   0  0   0   0   0  ...  28314  28959   \n",
       "5   50000  М  Университет   Женат  57  -1  0  -1   0   0  ...  20940  19146   \n",
       "\n",
       "     X17   X18    X19    X20   X21   X22   X23  Y  \n",
       "1      0     0    689      0     0     0     0  1  \n",
       "2   3261     0   1000   1000  1000     0  2000  1  \n",
       "3  15549  1518   1500   1000  1000  1000  5000  0  \n",
       "4  29547  2000   2019   1200  1100  1069  1000  0  \n",
       "5  19131  2000  36681  10000  9000   689   679  0  \n",
       "\n",
       "[5 rows x 24 columns]"
      ]
     },
     "execution_count": 16,
     "metadata": {},
     "output_type": "execute_result"
    }
   ],
   "source": [
    "data.head()"
   ]
  },
  {
   "cell_type": "markdown",
   "id": "3daeb642-2289-4726-a8e7-2ddb08148d3f",
   "metadata": {},
   "source": [
    "- Распределение заемщиков по возрасту"
   ]
  },
  {
   "cell_type": "code",
   "execution_count": 17,
   "id": "f2f45bab-0e1b-4373-a801-57f96be8c2cd",
   "metadata": {},
   "outputs": [
    {
     "data": {
      "image/png": "[encoded data removed]",
      "text/plain": [
       "<Figure size 576x288 with 1 Axes>"
      ]
     },
     "metadata": {
      "needs_background": "light"
     },
     "output_type": "display_data"
    }
   ],
   "source": [
    "plt.figure(figsize=(8,4))\n",
    "ax = sns.histplot(x=\"X5\", hue='Y', data=data, bins=30)\n",
    "plt.legend(title='Заемщик', labels=['Плохой заемщик', 'Хороший заемщик'])\n",
    "plt.show(ax)"
   ]
  },
  {
   "cell_type": "code",
   "execution_count": 18,
   "id": "2b892bd5-e534-43dc-bebf-91f022eca51f",
   "metadata": {},
   "outputs": [
    {
     "data": {
      "text/plain": [
       "35.4855"
      ]
     },
     "execution_count": 18,
     "metadata": {},
     "output_type": "execute_result"
    }
   ],
   "source": [
    "data.X5.mean()"
   ]
  },
  {
   "cell_type": "markdown",
   "id": "9c0c74d4-8b50-498e-8456-9578c85a9078",
   "metadata": {},
   "source": [
    "- Распределение заемщиков по полу"
   ]
  },
  {
   "cell_type": "code",
   "execution_count": 19,
   "id": "015310ef-27ba-4072-a480-1644acc42b49",
   "metadata": {},
   "outputs": [
    {
     "data": {
      "image/png": "[encoded data removed]",
      "text/plain": [
       "<Figure size 576x288 with 1 Axes>"
      ]
     },
     "metadata": {
      "needs_background": "light"
     },
     "output_type": "display_data"
    }
   ],
   "source": [
    "plt.figure(figsize=(8,4))\n",
    "ax = sns.histplot(x=\"X2\", hue='Y', data=data, shrink=0.9)\n",
    "plt.legend(title='Заемщик', labels=['Плохой заемщик', 'Хороший заемщик'])\n",
    "plt.show(ax)"
   ]
  },
  {
   "cell_type": "markdown",
   "id": "9bbb2f0f-8399-4129-92cf-70adabe8018e",
   "metadata": {},
   "source": [
    "- Распределение заемщиков по образованию"
   ]
  },
  {
   "cell_type": "code",
   "execution_count": 20,
   "id": "279d0bcd-ed0f-4205-9e9e-46e5ac8b5945",
   "metadata": {},
   "outputs": [
    {
     "data": {
      "image/png": "[encoded data removed]",
      "text/plain": [
       "<Figure size 576x288 with 1 Axes>"
      ]
     },
     "metadata": {
      "needs_background": "light"
     },
     "output_type": "display_data"
    }
   ],
   "source": [
    "plt.figure(figsize=(8,4))\n",
    "ax = sns.histplot(x=\"X3\", hue='Y', data=data, shrink=0.9)\n",
    "plt.legend(title='Заемщик', labels=['Плохой заемщик', 'Хороший заемщик'])\n",
    "plt.show(ax)"
   ]
  },
  {
   "cell_type": "markdown",
   "id": "37229401-dabd-4aeb-98e8-4ad63682bf8a",
   "metadata": {},
   "source": [
    "- Распределение заемщиков по семейному положению"
   ]
  },
  {
   "cell_type": "code",
   "execution_count": 21,
   "id": "b67255c8-7022-4bdd-907a-064139312ed5",
   "metadata": {},
   "outputs": [
    {
     "data": {
      "image/png": "[encoded data removed]",
      "text/plain": [
       "<Figure size 576x288 with 1 Axes>"
      ]
     },
     "metadata": {
      "needs_background": "light"
     },
     "output_type": "display_data"
    }
   ],
   "source": [
    "plt.figure(figsize=(8,4))\n",
    "ax = sns.histplot(x=\"X4\", hue='Y', data=data, shrink=0.9)\n",
    "plt.legend(title='Заемщик', labels=['Плохой заемщик', 'Хороший заемщик'])\n",
    "plt.show(ax)"
   ]
  },
  {
   "cell_type": "markdown",
   "id": "7c6eaac8-50fe-4a72-94be-dceb4213d543",
   "metadata": {},
   "source": [
    "- Распределение возрастов для мужчин и женщин"
   ]
  },
  {
   "cell_type": "code",
   "execution_count": 22,
   "id": "f1539d28-487b-49ad-893b-bb21fea7477e",
   "metadata": {},
   "outputs": [
    {
     "data": {
      "image/png": "[encoded data removed]",
      "text/plain": [
       "<Figure size 576x288 with 1 Axes>"
      ]
     },
     "metadata": {
      "needs_background": "light"
     },
     "output_type": "display_data"
    }
   ],
   "source": [
    "plt.figure(figsize=(8,4))\n",
    "ax = sns.histplot(x=\"X5\", hue='X2', data=data, bins=30)\n",
    "plt.legend(title='Пол', labels=['М', 'Ж'])\n",
    "plt.show(ax)"
   ]
  },
  {
   "cell_type": "code",
   "execution_count": 23,
   "id": "edb24f1f-4bbe-4a2a-ab5d-b305557b97cd",
   "metadata": {},
   "outputs": [
    {
     "data": {
      "text/plain": [
       "mean    34.806868\n",
       "std      9.029441\n",
       "Name: X5, dtype: float64"
      ]
     },
     "execution_count": 23,
     "metadata": {},
     "output_type": "execute_result"
    }
   ],
   "source": [
    "data[data.X2 == 'Ж']['X5'].describe()[['mean','std']]"
   ]
  },
  {
   "cell_type": "code",
   "execution_count": 24,
   "id": "1c156f39-bbd4-490c-a067-21754d312f0b",
   "metadata": {},
   "outputs": [
    {
     "data": {
      "text/plain": [
       "mean    36.519431\n",
       "std      9.404555\n",
       "Name: X5, dtype: float64"
      ]
     },
     "execution_count": 24,
     "metadata": {},
     "output_type": "execute_result"
    }
   ],
   "source": [
    "data[data.X2 == 'М']['X5'].describe()[['mean','std']]"
   ]
  },
  {
   "cell_type": "code",
   "execution_count": 25,
   "id": "ad6e9030-c578-4ddf-bae8-3162373797fe",
   "metadata": {},
   "outputs": [
    {
     "data": {
      "text/plain": [
       "KstestResult(statistic=0.0738859359915156, pvalue=1.6135191833037684e-34)"
      ]
     },
     "execution_count": 25,
     "metadata": {},
     "output_type": "execute_result"
    }
   ],
   "source": [
    "womens = data[data.X2 == 'Ж']['X5']\n",
    "mans = data[data.X2 == 'М']['X5']\n",
    "\n",
    "stats.kstest(mans, womens)"
   ]
  },
  {
   "cell_type": "markdown",
   "id": "b4d17bc6-47a1-4c6e-8e3b-949b235bc26a",
   "metadata": {},
   "source": [
    "- Посмотрим на критерий согласия Хи-квадрат (в качестве истинно распредления примим распределение распределение возрастов у женщин)"
   ]
  },
  {
   "cell_type": "code",
   "execution_count": 26,
   "id": "0eb880c0-9905-4168-a5ed-9a8e807a52f0",
   "metadata": {},
   "outputs": [
    {
     "name": "stdout",
     "output_type": "stream",
     "text": [
      "t=2720137.3735846034, t_cr=75.0018643219286\n",
      "Гипотеза оттвергается\n"
     ]
    }
   ],
   "source": [
    "uniq_man_ages = set(np.sort(mans.unique()))\n",
    "uniq_women_ages = set(np.sort(womens.unique()))\n",
    "uniq_both_ages = list(uniq_man_ages.intersection(uniq_women_ages))\n",
    "\n",
    "mans_freq = {}\n",
    "womens_freq_p={}\n",
    "\n",
    "for a in uniq_both_ages:\n",
    "    mans_freq[a] = len(mans[mans==a])\n",
    "    womens_freq_p[a] = len(womens[womens==a])/len(womens)\n",
    "\n",
    "mans_freq_list = list(mans_freq.values())\n",
    "womens_freq_p_list = list(womens_freq_p.values())\n",
    "\n",
    "#Подсчет статистики t, t_cr с alpha=0.05 и оценка результата\n",
    "t = 0\n",
    "n=len(mans_freq_list)\n",
    "for i in range(n):\n",
    "    t+= (mans_freq_list[i] - n*womens_freq_p_list[i])**2 / (n*womens_freq_p_list[i])\n",
    "t_cr = stats.chi2.interval(alpha=0.95, df=n-1)[1]\n",
    "print(f't={t}, t_cr={t_cr}')\n",
    "if t>=t_cr:\n",
    "    print('Гипотеза оттвергается')\n",
    "else:\n",
    "    print(\"Гипотеза не оттвергается\")"
   ]
  },
  {
   "cell_type": "markdown",
   "id": "6bac3a40-0ab7-4f66-a57a-a6fd8d4b253b",
   "metadata": {},
   "source": [
    "# Ответы на вопросы"
   ]
  },
  {
   "cell_type": "markdown",
   "id": "489cfe7c-fdac-4cc6-9498-3e6c1bc70b1c",
   "metadata": {},
   "source": [
    "Кого среди заемщиков больше: тех, у кого высока вероятность наступления дефолта в следующем месяце или тех, у кого такая вероятность равна нулю?\n",
    "<br/>Ответ: Вторых"
   ]
  },
  {
   "cell_type": "markdown",
   "id": "97e45ad2-39c1-4a6f-aa8e-6dac29f21f4a",
   "metadata": {},
   "source": [
    "Каков средний возраст заемщиков?\n",
    "<br/>Ответ: 35 лет"
   ]
  },
  {
   "cell_type": "markdown",
   "id": "8c727367-3b5f-41eb-967f-dc3b7ec81962",
   "metadata": {},
   "source": [
    "Среди заемщиков преобладают мужчины или женщины?\n",
    "<br/>Ответ: Женщины"
   ]
  },
  {
   "cell_type": "markdown",
   "id": "d472ce54-b0fa-4647-865f-04c70386e70e",
   "metadata": {},
   "source": [
    "Верна ли гипотеза о том, что люди с высшим образованием склонны чаще брать кредиты?\n",
    "<br/>Ответ: Да, верна"
   ]
  },
  {
   "cell_type": "markdown",
   "id": "39341f74-e2ca-472d-beaa-7bf5041655bd",
   "metadata": {},
   "source": [
    "Различается ли распределение возрастов для мужчин и женщин в выборке? \n",
    "<br/>Ответ: С виду распределения не различаются, однако по критериям Колмогорова-Смирнова и Пирсона гипотеза о равенстве оттвергается... Не совсем согласен с этим, так как распределения ведут себя идентично, особенно подкупает поведение на правом хвосте"
   ]
  }
 ],
 "metadata": {
  "kernelspec": {
   "display_name": "Python 3 (ipykernel)",
   "language": "python",
   "name": "python3"
  },
  "language_info": {
   "codemirror_mode": {
    "name": "ipython",
    "version": 3
   },
   "file_extension": ".py",
   "mimetype": "text/x-python",
   "name": "python",
   "nbconvert_exporter": "python",
   "pygments_lexer": "ipython3",
   "version": "3.9.12"
  }
 },
 "nbformat": 4,
 "nbformat_minor": 5
}
