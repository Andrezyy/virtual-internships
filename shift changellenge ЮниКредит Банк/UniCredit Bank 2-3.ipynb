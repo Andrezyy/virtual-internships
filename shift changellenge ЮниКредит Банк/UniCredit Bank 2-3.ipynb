{
 "cells": [
  {
   "cell_type": "code",
   "execution_count": 28,
   "id": "90043984-4954-40f9-a397-dc89d6f0145e",
   "metadata": {},
   "outputs": [],
   "source": [
    "import pandas as pd\n",
    "import numpy as np\n",
    "import matplotlib.pyplot as plt\n",
    "import seaborn as sns\n",
    "from scipy import stats\n",
    "\n",
    "\n",
    "from sklearn.linear_model import LogisticRegression\n",
    "from sklearn.model_selection import cross_val_score, StratifiedKFold\n",
    "\n",
    "from tqdm.notebook import tqdm"
   ]
  },
  {
   "cell_type": "code",
   "execution_count": 29,
   "id": "03ec1be8-03ce-4563-b806-4daca9b6bccd",
   "metadata": {},
   "outputs": [],
   "source": [
    "train = pd.read_csv(\"train.csv\")\n",
    "test = pd.read_csv(\"test.csv\")"
   ]
  },
  {
   "cell_type": "markdown",
   "id": "9682c4fc-e6b8-4e6e-9908-7612a72b3b73",
   "metadata": {},
   "source": [
    "# UniCredit 2"
   ]
  },
  {
   "cell_type": "markdown",
   "id": "818d37b1-b59f-4248-bea4-8415d2ff4eed",
   "metadata": {},
   "source": [
    "# EDA"
   ]
  },
  {
   "cell_type": "markdown",
   "id": "701ee312-b5b2-4df5-a07a-ab7636a9b684",
   "metadata": {},
   "source": [
    "- Множества признаков трейна и теста совпадают"
   ]
  },
  {
   "cell_type": "code",
   "execution_count": 3,
   "id": "da09d4b9-49ca-4192-a2ef-bf1df778ccd6",
   "metadata": {},
   "outputs": [
    {
     "data": {
      "text/plain": [
       "((900000, 33), (700000, 32))"
      ]
     },
     "execution_count": 3,
     "metadata": {},
     "output_type": "execute_result"
    }
   ],
   "source": [
    "train.shape, test.shape"
   ]
  },
  {
   "cell_type": "code",
   "execution_count": 4,
   "id": "2b3b8378-5f5f-4e36-b67d-1aa39a68c5ee",
   "metadata": {},
   "outputs": [
    {
     "data": {
      "text/plain": [
       "{'target'}"
      ]
     },
     "execution_count": 4,
     "metadata": {},
     "output_type": "execute_result"
    }
   ],
   "source": [
    "set(train.columns) - set(test.columns)"
   ]
  },
  {
   "cell_type": "code",
   "execution_count": 5,
   "id": "a50d6031-2fc9-4135-b947-39bd035cbc2c",
   "metadata": {},
   "outputs": [
    {
     "data": {
      "text/html": [
       "<div>\n",
       "<style scoped>\n",
       "    .dataframe tbody tr th:only-of-type {\n",
       "        vertical-align: middle;\n",
       "    }\n",
       "\n",
       "    .dataframe tbody tr th {\n",
       "        vertical-align: top;\n",
       "    }\n",
       "\n",
       "    .dataframe thead th {\n",
       "        text-align: right;\n",
       "    }\n",
       "</style>\n",
       "<table border=\"1\" class=\"dataframe\">\n",
       "  <thead>\n",
       "    <tr style=\"text-align: right;\">\n",
       "      <th></th>\n",
       "      <th>id</th>\n",
       "      <th>f_00</th>\n",
       "      <th>f_01</th>\n",
       "      <th>f_02</th>\n",
       "      <th>f_03</th>\n",
       "      <th>f_04</th>\n",
       "      <th>f_05</th>\n",
       "      <th>f_06</th>\n",
       "      <th>f_07</th>\n",
       "      <th>f_08</th>\n",
       "      <th>...</th>\n",
       "      <th>f_22</th>\n",
       "      <th>f_23</th>\n",
       "      <th>f_24</th>\n",
       "      <th>f_25</th>\n",
       "      <th>f_26</th>\n",
       "      <th>f_27</th>\n",
       "      <th>f_28</th>\n",
       "      <th>f_29</th>\n",
       "      <th>f_30</th>\n",
       "      <th>target</th>\n",
       "    </tr>\n",
       "  </thead>\n",
       "  <tbody>\n",
       "    <tr>\n",
       "      <th>0</th>\n",
       "      <td>0</td>\n",
       "      <td>-1.373246</td>\n",
       "      <td>0.238887</td>\n",
       "      <td>-0.243376</td>\n",
       "      <td>0.567405</td>\n",
       "      <td>-0.647715</td>\n",
       "      <td>0.839326</td>\n",
       "      <td>0.113133</td>\n",
       "      <td>1</td>\n",
       "      <td>5</td>\n",
       "      <td>...</td>\n",
       "      <td>-2.540739</td>\n",
       "      <td>0.766952</td>\n",
       "      <td>-2.730628</td>\n",
       "      <td>-0.208177</td>\n",
       "      <td>1.363402</td>\n",
       "      <td>ABABDADBAB</td>\n",
       "      <td>67.609153</td>\n",
       "      <td>0</td>\n",
       "      <td>0</td>\n",
       "      <td>0</td>\n",
       "    </tr>\n",
       "    <tr>\n",
       "      <th>1</th>\n",
       "      <td>1</td>\n",
       "      <td>1.697021</td>\n",
       "      <td>-1.710322</td>\n",
       "      <td>-2.230332</td>\n",
       "      <td>-0.545661</td>\n",
       "      <td>1.113173</td>\n",
       "      <td>-1.552175</td>\n",
       "      <td>0.447825</td>\n",
       "      <td>1</td>\n",
       "      <td>3</td>\n",
       "      <td>...</td>\n",
       "      <td>2.278315</td>\n",
       "      <td>-0.633658</td>\n",
       "      <td>-1.217077</td>\n",
       "      <td>-3.782194</td>\n",
       "      <td>-0.058316</td>\n",
       "      <td>ACACCADCEB</td>\n",
       "      <td>377.096415</td>\n",
       "      <td>0</td>\n",
       "      <td>0</td>\n",
       "      <td>1</td>\n",
       "    </tr>\n",
       "    <tr>\n",
       "      <th>2</th>\n",
       "      <td>2</td>\n",
       "      <td>1.681726</td>\n",
       "      <td>0.616746</td>\n",
       "      <td>-1.027689</td>\n",
       "      <td>0.810492</td>\n",
       "      <td>-0.609086</td>\n",
       "      <td>0.113965</td>\n",
       "      <td>-0.708660</td>\n",
       "      <td>1</td>\n",
       "      <td>0</td>\n",
       "      <td>...</td>\n",
       "      <td>-1.385775</td>\n",
       "      <td>-0.520558</td>\n",
       "      <td>-0.009121</td>\n",
       "      <td>2.788536</td>\n",
       "      <td>-3.703488</td>\n",
       "      <td>AAAEABCKAD</td>\n",
       "      <td>-195.599702</td>\n",
       "      <td>0</td>\n",
       "      <td>2</td>\n",
       "      <td>1</td>\n",
       "    </tr>\n",
       "    <tr>\n",
       "      <th>3</th>\n",
       "      <td>3</td>\n",
       "      <td>-0.118172</td>\n",
       "      <td>-0.587835</td>\n",
       "      <td>-0.804638</td>\n",
       "      <td>2.086822</td>\n",
       "      <td>0.371005</td>\n",
       "      <td>-0.128831</td>\n",
       "      <td>-0.282575</td>\n",
       "      <td>3</td>\n",
       "      <td>2</td>\n",
       "      <td>...</td>\n",
       "      <td>0.572594</td>\n",
       "      <td>-1.653213</td>\n",
       "      <td>1.686035</td>\n",
       "      <td>-2.533098</td>\n",
       "      <td>-0.608601</td>\n",
       "      <td>BDBBAACBCB</td>\n",
       "      <td>210.826205</td>\n",
       "      <td>0</td>\n",
       "      <td>0</td>\n",
       "      <td>1</td>\n",
       "    </tr>\n",
       "    <tr>\n",
       "      <th>4</th>\n",
       "      <td>4</td>\n",
       "      <td>1.148481</td>\n",
       "      <td>-0.176567</td>\n",
       "      <td>-0.664871</td>\n",
       "      <td>-1.101343</td>\n",
       "      <td>0.467875</td>\n",
       "      <td>0.500117</td>\n",
       "      <td>0.407515</td>\n",
       "      <td>3</td>\n",
       "      <td>3</td>\n",
       "      <td>...</td>\n",
       "      <td>-3.912929</td>\n",
       "      <td>-1.430366</td>\n",
       "      <td>2.127649</td>\n",
       "      <td>-3.306784</td>\n",
       "      <td>4.371371</td>\n",
       "      <td>BDBCBBCHFE</td>\n",
       "      <td>-217.211798</td>\n",
       "      <td>0</td>\n",
       "      <td>1</td>\n",
       "      <td>1</td>\n",
       "    </tr>\n",
       "  </tbody>\n",
       "</table>\n",
       "<p>5 rows × 33 columns</p>\n",
       "</div>"
      ],
      "text/plain": [
       "   id      f_00      f_01      f_02      f_03      f_04      f_05      f_06  \\\n",
       "0   0 -1.373246  0.238887 -0.243376  0.567405 -0.647715  0.839326  0.113133   \n",
       "1   1  1.697021 -1.710322 -2.230332 -0.545661  1.113173 -1.552175  0.447825   \n",
       "2   2  1.681726  0.616746 -1.027689  0.810492 -0.609086  0.113965 -0.708660   \n",
       "3   3 -0.118172 -0.587835 -0.804638  2.086822  0.371005 -0.128831 -0.282575   \n",
       "4   4  1.148481 -0.176567 -0.664871 -1.101343  0.467875  0.500117  0.407515   \n",
       "\n",
       "   f_07  f_08  ...      f_22      f_23      f_24      f_25      f_26  \\\n",
       "0     1     5  ... -2.540739  0.766952 -2.730628 -0.208177  1.363402   \n",
       "1     1     3  ...  2.278315 -0.633658 -1.217077 -3.782194 -0.058316   \n",
       "2     1     0  ... -1.385775 -0.520558 -0.009121  2.788536 -3.703488   \n",
       "3     3     2  ...  0.572594 -1.653213  1.686035 -2.533098 -0.608601   \n",
       "4     3     3  ... -3.912929 -1.430366  2.127649 -3.306784  4.371371   \n",
       "\n",
       "         f_27        f_28  f_29  f_30  target  \n",
       "0  ABABDADBAB   67.609153     0     0       0  \n",
       "1  ACACCADCEB  377.096415     0     0       1  \n",
       "2  AAAEABCKAD -195.599702     0     2       1  \n",
       "3  BDBBAACBCB  210.826205     0     0       1  \n",
       "4  BDBCBBCHFE -217.211798     0     1       1  \n",
       "\n",
       "[5 rows x 33 columns]"
      ]
     },
     "execution_count": 5,
     "metadata": {},
     "output_type": "execute_result"
    }
   ],
   "source": [
    "train.head()"
   ]
  },
  {
   "cell_type": "markdown",
   "id": "4b3bdffa-f4e0-488a-abbf-788692ba4090",
   "metadata": {
    "tags": []
   },
   "source": [
    "- Замечаем признак f_27, он точно категориальный, так как его значения какие-то строковые последовательности\n",
    "- Категориальными также могут оказаться целочисленные признаки, но это неизвестно\n",
    "- NAN'ов нет"
   ]
  },
  {
   "cell_type": "code",
   "execution_count": 6,
   "id": "90918b23-d1de-47cf-a971-389871025f72",
   "metadata": {},
   "outputs": [
    {
     "name": "stdout",
     "output_type": "stream",
     "text": [
      "<class 'pandas.core.frame.DataFrame'>\n",
      "RangeIndex: 900000 entries, 0 to 899999\n",
      "Data columns (total 33 columns):\n",
      " #   Column  Non-Null Count   Dtype  \n",
      "---  ------  --------------   -----  \n",
      " 0   id      900000 non-null  int64  \n",
      " 1   f_00    900000 non-null  float64\n",
      " 2   f_01    900000 non-null  float64\n",
      " 3   f_02    900000 non-null  float64\n",
      " 4   f_03    900000 non-null  float64\n",
      " 5   f_04    900000 non-null  float64\n",
      " 6   f_05    900000 non-null  float64\n",
      " 7   f_06    900000 non-null  float64\n",
      " 8   f_07    900000 non-null  int64  \n",
      " 9   f_08    900000 non-null  int64  \n",
      " 10  f_09    900000 non-null  int64  \n",
      " 11  f_10    900000 non-null  int64  \n",
      " 12  f_11    900000 non-null  int64  \n",
      " 13  f_12    900000 non-null  int64  \n",
      " 14  f_13    900000 non-null  int64  \n",
      " 15  f_14    900000 non-null  int64  \n",
      " 16  f_15    900000 non-null  int64  \n",
      " 17  f_16    900000 non-null  int64  \n",
      " 18  f_17    900000 non-null  int64  \n",
      " 19  f_18    900000 non-null  int64  \n",
      " 20  f_19    900000 non-null  float64\n",
      " 21  f_20    900000 non-null  float64\n",
      " 22  f_21    900000 non-null  float64\n",
      " 23  f_22    900000 non-null  float64\n",
      " 24  f_23    900000 non-null  float64\n",
      " 25  f_24    900000 non-null  float64\n",
      " 26  f_25    900000 non-null  float64\n",
      " 27  f_26    900000 non-null  float64\n",
      " 28  f_27    900000 non-null  object \n",
      " 29  f_28    900000 non-null  float64\n",
      " 30  f_29    900000 non-null  int64  \n",
      " 31  f_30    900000 non-null  int64  \n",
      " 32  target  900000 non-null  int64  \n",
      "dtypes: float64(16), int64(16), object(1)\n",
      "memory usage: 226.6+ MB\n"
     ]
    }
   ],
   "source": [
    "train.info()"
   ]
  },
  {
   "cell_type": "markdown",
   "id": "e9a641d0-ca86-4baf-94d8-b0c27cc341be",
   "metadata": {},
   "source": [
    "- У категориального признака очень большое множество значений. После OHE размерность так вырастет, что для продуктивного обучения модели данных может быть мало. 741 000 признаков и 900 000 строк"
   ]
  },
  {
   "cell_type": "code",
   "execution_count": 7,
   "id": "738cadaf-8c42-4a97-bf05-f686c5f4e124",
   "metadata": {},
   "outputs": [
    {
     "data": {
      "text/plain": [
       "741354"
      ]
     },
     "execution_count": 7,
     "metadata": {},
     "output_type": "execute_result"
    }
   ],
   "source": [
    "len(train.f_27.unique())"
   ]
  },
  {
   "cell_type": "markdown",
   "id": "16be20c5-7f65-4a25-88ed-08606d06c174",
   "metadata": {},
   "source": [
    "- Дизбаланса классов нет"
   ]
  },
  {
   "cell_type": "code",
   "execution_count": 8,
   "id": "83439dd4-f3e8-4396-bc23-800e4e1e287e",
   "metadata": {},
   "outputs": [
    {
     "data": {
      "text/plain": [
       "0    0.513512\n",
       "1    0.486488\n",
       "Name: target, dtype: float64"
      ]
     },
     "execution_count": 8,
     "metadata": {},
     "output_type": "execute_result"
    }
   ],
   "source": [
    "train.target.value_counts(normalize=True)"
   ]
  },
  {
   "cell_type": "markdown",
   "id": "484f9adb-aa6a-4b46-b530-69c72cf69cc3",
   "metadata": {},
   "source": [
    "- значения `max` сильно больше значений `75%` кваритиля, что может говорить о выбросах\n",
    "- `mean` и `50% квартиль` не сильно отличаются, что может говорить о симметрии распределений относительно среднего "
   ]
  },
  {
   "cell_type": "code",
   "execution_count": 30,
   "id": "7cc231b2-1195-449e-9dc2-9c5f478859f6",
   "metadata": {},
   "outputs": [
    {
     "data": {
      "text/html": [
       "<div>\n",
       "<style scoped>\n",
       "    .dataframe tbody tr th:only-of-type {\n",
       "        vertical-align: middle;\n",
       "    }\n",
       "\n",
       "    .dataframe tbody tr th {\n",
       "        vertical-align: top;\n",
       "    }\n",
       "\n",
       "    .dataframe thead th {\n",
       "        text-align: right;\n",
       "    }\n",
       "</style>\n",
       "<table border=\"1\" class=\"dataframe\">\n",
       "  <thead>\n",
       "    <tr style=\"text-align: right;\">\n",
       "      <th></th>\n",
       "      <th>id</th>\n",
       "      <th>f_00</th>\n",
       "      <th>f_01</th>\n",
       "      <th>f_02</th>\n",
       "      <th>f_03</th>\n",
       "      <th>f_04</th>\n",
       "      <th>f_05</th>\n",
       "      <th>f_06</th>\n",
       "      <th>f_07</th>\n",
       "      <th>f_08</th>\n",
       "      <th>...</th>\n",
       "      <th>f_21</th>\n",
       "      <th>f_22</th>\n",
       "      <th>f_23</th>\n",
       "      <th>f_24</th>\n",
       "      <th>f_25</th>\n",
       "      <th>f_26</th>\n",
       "      <th>f_28</th>\n",
       "      <th>f_29</th>\n",
       "      <th>f_30</th>\n",
       "      <th>target</th>\n",
       "    </tr>\n",
       "  </thead>\n",
       "  <tbody>\n",
       "    <tr>\n",
       "      <th>count</th>\n",
       "      <td>900000.000000</td>\n",
       "      <td>900000.000000</td>\n",
       "      <td>900000.000000</td>\n",
       "      <td>900000.000000</td>\n",
       "      <td>900000.000000</td>\n",
       "      <td>900000.000000</td>\n",
       "      <td>900000.000000</td>\n",
       "      <td>900000.000000</td>\n",
       "      <td>900000.000000</td>\n",
       "      <td>900000.000000</td>\n",
       "      <td>...</td>\n",
       "      <td>900000.000000</td>\n",
       "      <td>900000.000000</td>\n",
       "      <td>900000.000000</td>\n",
       "      <td>900000.000000</td>\n",
       "      <td>900000.000000</td>\n",
       "      <td>900000.000000</td>\n",
       "      <td>900000.000000</td>\n",
       "      <td>900000.000000</td>\n",
       "      <td>900000.000000</td>\n",
       "      <td>900000.000000</td>\n",
       "    </tr>\n",
       "    <tr>\n",
       "      <th>mean</th>\n",
       "      <td>449999.500000</td>\n",
       "      <td>-0.000286</td>\n",
       "      <td>0.001165</td>\n",
       "      <td>0.001174</td>\n",
       "      <td>-0.001368</td>\n",
       "      <td>-0.000571</td>\n",
       "      <td>0.000284</td>\n",
       "      <td>-0.000709</td>\n",
       "      <td>2.031460</td>\n",
       "      <td>2.057998</td>\n",
       "      <td>...</td>\n",
       "      <td>-0.156307</td>\n",
       "      <td>-0.009273</td>\n",
       "      <td>-0.369459</td>\n",
       "      <td>-0.342738</td>\n",
       "      <td>0.176549</td>\n",
       "      <td>0.357591</td>\n",
       "      <td>-0.380876</td>\n",
       "      <td>0.345661</td>\n",
       "      <td>1.002654</td>\n",
       "      <td>0.486488</td>\n",
       "    </tr>\n",
       "    <tr>\n",
       "      <th>std</th>\n",
       "      <td>259807.765474</td>\n",
       "      <td>0.998888</td>\n",
       "      <td>0.999193</td>\n",
       "      <td>1.000514</td>\n",
       "      <td>1.000175</td>\n",
       "      <td>1.000167</td>\n",
       "      <td>0.999875</td>\n",
       "      <td>0.999942</td>\n",
       "      <td>1.656172</td>\n",
       "      <td>1.590955</td>\n",
       "      <td>...</td>\n",
       "      <td>2.484706</td>\n",
       "      <td>2.450797</td>\n",
       "      <td>2.453405</td>\n",
       "      <td>2.386941</td>\n",
       "      <td>2.416959</td>\n",
       "      <td>2.476020</td>\n",
       "      <td>238.773054</td>\n",
       "      <td>0.475584</td>\n",
       "      <td>0.818989</td>\n",
       "      <td>0.499818</td>\n",
       "    </tr>\n",
       "    <tr>\n",
       "      <th>min</th>\n",
       "      <td>0.000000</td>\n",
       "      <td>-4.599856</td>\n",
       "      <td>-4.682199</td>\n",
       "      <td>-4.642676</td>\n",
       "      <td>-4.658816</td>\n",
       "      <td>-4.748501</td>\n",
       "      <td>-4.750214</td>\n",
       "      <td>-4.842919</td>\n",
       "      <td>0.000000</td>\n",
       "      <td>0.000000</td>\n",
       "      <td>...</td>\n",
       "      <td>-13.310146</td>\n",
       "      <td>-11.853530</td>\n",
       "      <td>-12.301097</td>\n",
       "      <td>-11.416189</td>\n",
       "      <td>-11.918306</td>\n",
       "      <td>-14.300577</td>\n",
       "      <td>-1229.753052</td>\n",
       "      <td>0.000000</td>\n",
       "      <td>0.000000</td>\n",
       "      <td>0.000000</td>\n",
       "    </tr>\n",
       "    <tr>\n",
       "      <th>25%</th>\n",
       "      <td>224999.750000</td>\n",
       "      <td>-0.675490</td>\n",
       "      <td>-0.675162</td>\n",
       "      <td>-0.674369</td>\n",
       "      <td>-0.676114</td>\n",
       "      <td>-0.675909</td>\n",
       "      <td>-0.673437</td>\n",
       "      <td>-0.674876</td>\n",
       "      <td>1.000000</td>\n",
       "      <td>1.000000</td>\n",
       "      <td>...</td>\n",
       "      <td>-1.820063</td>\n",
       "      <td>-1.645585</td>\n",
       "      <td>-2.019739</td>\n",
       "      <td>-1.955956</td>\n",
       "      <td>-1.440424</td>\n",
       "      <td>-1.261598</td>\n",
       "      <td>-159.427418</td>\n",
       "      <td>0.000000</td>\n",
       "      <td>0.000000</td>\n",
       "      <td>0.000000</td>\n",
       "    </tr>\n",
       "    <tr>\n",
       "      <th>50%</th>\n",
       "      <td>449999.500000</td>\n",
       "      <td>0.001144</td>\n",
       "      <td>0.002014</td>\n",
       "      <td>0.002218</td>\n",
       "      <td>-0.002227</td>\n",
       "      <td>-0.001662</td>\n",
       "      <td>-0.000438</td>\n",
       "      <td>-0.001492</td>\n",
       "      <td>2.000000</td>\n",
       "      <td>2.000000</td>\n",
       "      <td>...</td>\n",
       "      <td>-0.152668</td>\n",
       "      <td>0.030850</td>\n",
       "      <td>-0.390966</td>\n",
       "      <td>-0.340746</td>\n",
       "      <td>0.160912</td>\n",
       "      <td>0.404212</td>\n",
       "      <td>-0.519808</td>\n",
       "      <td>0.000000</td>\n",
       "      <td>1.000000</td>\n",
       "      <td>0.000000</td>\n",
       "    </tr>\n",
       "    <tr>\n",
       "      <th>75%</th>\n",
       "      <td>674999.250000</td>\n",
       "      <td>0.674337</td>\n",
       "      <td>0.675021</td>\n",
       "      <td>0.677505</td>\n",
       "      <td>0.672544</td>\n",
       "      <td>0.673789</td>\n",
       "      <td>0.675028</td>\n",
       "      <td>0.674749</td>\n",
       "      <td>3.000000</td>\n",
       "      <td>3.000000</td>\n",
       "      <td>...</td>\n",
       "      <td>1.507071</td>\n",
       "      <td>1.661676</td>\n",
       "      <td>1.255408</td>\n",
       "      <td>1.266673</td>\n",
       "      <td>1.795928</td>\n",
       "      <td>2.028219</td>\n",
       "      <td>158.987357</td>\n",
       "      <td>1.000000</td>\n",
       "      <td>2.000000</td>\n",
       "      <td>1.000000</td>\n",
       "    </tr>\n",
       "    <tr>\n",
       "      <th>max</th>\n",
       "      <td>899999.000000</td>\n",
       "      <td>4.749301</td>\n",
       "      <td>4.815699</td>\n",
       "      <td>4.961982</td>\n",
       "      <td>4.454920</td>\n",
       "      <td>4.948983</td>\n",
       "      <td>4.971881</td>\n",
       "      <td>4.822668</td>\n",
       "      <td>15.000000</td>\n",
       "      <td>16.000000</td>\n",
       "      <td>...</td>\n",
       "      <td>14.455426</td>\n",
       "      <td>11.344080</td>\n",
       "      <td>12.247100</td>\n",
       "      <td>12.389844</td>\n",
       "      <td>12.529179</td>\n",
       "      <td>12.913041</td>\n",
       "      <td>1229.562577</td>\n",
       "      <td>1.000000</td>\n",
       "      <td>2.000000</td>\n",
       "      <td>1.000000</td>\n",
       "    </tr>\n",
       "  </tbody>\n",
       "</table>\n",
       "<p>8 rows × 32 columns</p>\n",
       "</div>"
      ],
      "text/plain": [
       "                  id           f_00           f_01           f_02  \\\n",
       "count  900000.000000  900000.000000  900000.000000  900000.000000   \n",
       "mean   449999.500000      -0.000286       0.001165       0.001174   \n",
       "std    259807.765474       0.998888       0.999193       1.000514   \n",
       "min         0.000000      -4.599856      -4.682199      -4.642676   \n",
       "25%    224999.750000      -0.675490      -0.675162      -0.674369   \n",
       "50%    449999.500000       0.001144       0.002014       0.002218   \n",
       "75%    674999.250000       0.674337       0.675021       0.677505   \n",
       "max    899999.000000       4.749301       4.815699       4.961982   \n",
       "\n",
       "                f_03           f_04           f_05           f_06  \\\n",
       "count  900000.000000  900000.000000  900000.000000  900000.000000   \n",
       "mean       -0.001368      -0.000571       0.000284      -0.000709   \n",
       "std         1.000175       1.000167       0.999875       0.999942   \n",
       "min        -4.658816      -4.748501      -4.750214      -4.842919   \n",
       "25%        -0.676114      -0.675909      -0.673437      -0.674876   \n",
       "50%        -0.002227      -0.001662      -0.000438      -0.001492   \n",
       "75%         0.672544       0.673789       0.675028       0.674749   \n",
       "max         4.454920       4.948983       4.971881       4.822668   \n",
       "\n",
       "                f_07           f_08  ...           f_21           f_22  \\\n",
       "count  900000.000000  900000.000000  ...  900000.000000  900000.000000   \n",
       "mean        2.031460       2.057998  ...      -0.156307      -0.009273   \n",
       "std         1.656172       1.590955  ...       2.484706       2.450797   \n",
       "min         0.000000       0.000000  ...     -13.310146     -11.853530   \n",
       "25%         1.000000       1.000000  ...      -1.820063      -1.645585   \n",
       "50%         2.000000       2.000000  ...      -0.152668       0.030850   \n",
       "75%         3.000000       3.000000  ...       1.507071       1.661676   \n",
       "max        15.000000      16.000000  ...      14.455426      11.344080   \n",
       "\n",
       "                f_23           f_24           f_25           f_26  \\\n",
       "count  900000.000000  900000.000000  900000.000000  900000.000000   \n",
       "mean       -0.369459      -0.342738       0.176549       0.357591   \n",
       "std         2.453405       2.386941       2.416959       2.476020   \n",
       "min       -12.301097     -11.416189     -11.918306     -14.300577   \n",
       "25%        -2.019739      -1.955956      -1.440424      -1.261598   \n",
       "50%        -0.390966      -0.340746       0.160912       0.404212   \n",
       "75%         1.255408       1.266673       1.795928       2.028219   \n",
       "max        12.247100      12.389844      12.529179      12.913041   \n",
       "\n",
       "                f_28           f_29           f_30         target  \n",
       "count  900000.000000  900000.000000  900000.000000  900000.000000  \n",
       "mean       -0.380876       0.345661       1.002654       0.486488  \n",
       "std       238.773054       0.475584       0.818989       0.499818  \n",
       "min     -1229.753052       0.000000       0.000000       0.000000  \n",
       "25%      -159.427418       0.000000       0.000000       0.000000  \n",
       "50%        -0.519808       0.000000       1.000000       0.000000  \n",
       "75%       158.987357       1.000000       2.000000       1.000000  \n",
       "max      1229.562577       1.000000       2.000000       1.000000  \n",
       "\n",
       "[8 rows x 32 columns]"
      ]
     },
     "execution_count": 30,
     "metadata": {},
     "output_type": "execute_result"
    }
   ],
   "source": [
    "train.describe()"
   ]
  },
  {
   "cell_type": "markdown",
   "id": "871212e1-e8e9-4b0a-b0c9-166a29d242f9",
   "metadata": {},
   "source": [
    "- Избавимся от выбросов (через чур маленьких и больших значенией) лежащих за пределами `Q1 - 3IQR` и `Q3 + 3IQR`"
   ]
  },
  {
   "cell_type": "code",
   "execution_count": 10,
   "id": "8065abb3-f573-4a59-b5e5-9aa93d41ef1a",
   "metadata": {},
   "outputs": [],
   "source": [
    "def boxplot_clear(data, column, x=3):\n",
    "    data_to_clear = data\n",
    "\n",
    "    Q1 = data[column].quantile(0.25)\n",
    "    Q3 = data[column].quantile(0.75)\n",
    "    IQR = Q3 - Q1\n",
    "    first_border = Q1 - x*IQR\n",
    "    second_border = Q3 + x*IQR\n",
    "    cleared_data = data_to_clear[(data_to_clear[column] >= first_border) & (data_to_clear[column] <= second_border)] \n",
    "    \n",
    "    # fig,(ax1,ax2)=plt.subplots(1,2, figsize=(8,4))\n",
    "    # fig.suptitle(column)\n",
    "    # sns.boxplot(x = data[column],ax=ax1)\n",
    "    # sns.boxplot(x = cleared_data[column],ax=ax2)\n",
    "    # ax1.set_title('BEFORE CLEAR')\n",
    "    # ax2.set_title('AFTER CLEAR')\n",
    "    # plt.show()\n",
    "    \n",
    "    return cleared_data"
   ]
  },
  {
   "cell_type": "code",
   "execution_count": 11,
   "id": "de435778-6149-48a1-bdca-9de7bcb7faae",
   "metadata": {},
   "outputs": [],
   "source": [
    "meh = set(['id','f_27','target'])"
   ]
  },
  {
   "cell_type": "code",
   "execution_count": 12,
   "id": "8e2fa9f5-93ab-472f-a303-65d42e80d627",
   "metadata": {},
   "outputs": [
    {
     "name": "stdout",
     "output_type": "stream",
     "text": [
      "Избавились от 3924 строк\n"
     ]
    }
   ],
   "source": [
    "columns_ = set(train.columns) - meh\n",
    "n=train.shape[0]\n",
    "\n",
    "for column in columns_:\n",
    "    train = boxplot_clear(train,column)\n",
    "print(f\"Избавились от {n-train.shape[0]} строк\")"
   ]
  },
  {
   "cell_type": "markdown",
   "id": "9c9bda39-f29e-4f35-a20b-f525397b4c93",
   "metadata": {},
   "source": [
    "- Проверим гипотезу о нормальности распределений признаков"
   ]
  },
  {
   "cell_type": "code",
   "execution_count": 13,
   "id": "09a62c52-c63c-4a1b-857b-e31f4ea83620",
   "metadata": {},
   "outputs": [
    {
     "name": "stdout",
     "output_type": "stream",
     "text": [
      "f_30 не распредленно нормально\n",
      "f_18 не распредленно нормально\n",
      "f_15 не распредленно нормально\n",
      "f_08 не распредленно нормально\n",
      "f_24 не распредленно нормально\n",
      "f_01 может быть распредленно нормально\n",
      "f_22 не распредленно нормально\n",
      "f_28 не распредленно нормально\n",
      "f_13 не распредленно нормально\n",
      "f_25 не распредленно нормально\n",
      "f_10 не распредленно нормально\n",
      "f_00 может быть распредленно нормально\n",
      "f_23 не распредленно нормально\n",
      "f_09 не распредленно нормально\n",
      "f_26 не распредленно нормально\n",
      "f_19 не распредленно нормально\n",
      "f_02 может быть распредленно нормально\n",
      "f_14 не распредленно нормально\n",
      "f_21 не распредленно нормально\n",
      "f_06 может быть распредленно нормально\n",
      "f_17 не распредленно нормально\n",
      "f_05 может быть распредленно нормально\n",
      "f_16 не распредленно нормально\n",
      "f_07 не распредленно нормально\n",
      "f_12 не распредленно нормально\n",
      "f_20 не распредленно нормально\n",
      "f_29 не распредленно нормально\n",
      "f_04 может быть распредленно нормально\n",
      "f_11 не распредленно нормально\n",
      "f_03 может быть распредленно нормально\n"
     ]
    }
   ],
   "source": [
    "for column in columns_:\n",
    "    t,pvalue = stats.kstest(train[column], 'norm')\n",
    "    if pvalue>0.05:\n",
    "        print(f'{column} может быть распредленно нормально')\n",
    "    else:\n",
    "        print(f'{column} не распредленно нормально')"
   ]
  },
  {
   "cell_type": "markdown",
   "id": "2b6c7d6c-ba1f-4280-beed-a5ae2e13d282",
   "metadata": {},
   "source": [
    "- Насколько коррелированы признаки между собой (мега скоррелированных признаков нет)"
   ]
  },
  {
   "cell_type": "code",
   "execution_count": 14,
   "id": "f40e2ff7-8279-4cbb-9126-1dd902a25662",
   "metadata": {},
   "outputs": [],
   "source": [
    "corr=train.corr()"
   ]
  },
  {
   "cell_type": "code",
   "execution_count": 15,
   "id": "3e869a5e-ca4e-48e6-964d-adaf0f542a6a",
   "metadata": {},
   "outputs": [
    {
     "data": {
      "image/png": "[encoded data removed]",
      "text/plain": [
       "<Figure size 1440x1152 with 2 Axes>"
      ]
     },
     "metadata": {
      "needs_background": "light"
     },
     "output_type": "display_data"
    }
   ],
   "source": [
    "plt.figure(figsize=(20, 16))\n",
    "sns.heatmap(np.around(corr, decimals = 2), vmin=-1, vmax=1, cmap='Greys', annot=True)\n",
    "plt.show()"
   ]
  },
  {
   "cell_type": "markdown",
   "id": "d096d386-1f76-4724-bf75-be3d88c665d6",
   "metadata": {},
   "source": [
    "# Gini index"
   ]
  },
  {
   "cell_type": "code",
   "execution_count": 16,
   "id": "e0df9eca-4067-4815-99cf-1a43b195488d",
   "metadata": {},
   "outputs": [],
   "source": [
    "def Gini_coef(feature):\n",
    "    '''feature - pd series значения признака'''\n",
    "    feature = feature.sort_values(ignore_index=True)\n",
    "    '''Если есть отрицательные значения'''\n",
    "    if min(feature)<0:\n",
    "        return 'Не определен' \n",
    "        #feature += abs(min(feature))\n",
    "        #feature = feature[feature>0]\n",
    "        #feature[feature<0] = 0\n",
    "    n=len(feature)\n",
    "    x_cum = pd.Series(np.arange(1,n+1)/n)\n",
    "    x_cum_1 = x_cum.shift().fillna(0)\n",
    "    feature_cumsum = np.cumsum(feature)/sum(feature)\n",
    "    feature_cumsum_1 = feature_cumsum.shift().fillna(0)\n",
    "    gini = 1 - np.sum((x_cum - x_cum_1)*(feature_cumsum + feature_cumsum_1))\n",
    "    return gini"
   ]
  },
  {
   "cell_type": "markdown",
   "id": "93ef9132-451f-41ea-9006-405361de3e90",
   "metadata": {},
   "source": [
    "По поводу индекса джини. Тут встречаются признаки, которые могут принимать отрицательные значения, поэтому просто вычислить индекс джини (target vs feature) не получится, так как кривая Лоренца может уйти в отрицательную область по оси Оу (так как кумулятивная сумма отрицательная)."
   ]
  },
  {
   "cell_type": "markdown",
   "id": "fd7edeb6-18e6-4c95-9abc-e729da2b2fc6",
   "metadata": {},
   "source": [
    "![Кривая Лоренца](Lorenc.png)"
   ]
  },
  {
   "cell_type": "markdown",
   "id": "14790cf3-2d7a-4c1e-8956-781d6706ac81",
   "metadata": {},
   "source": [
    "Если А>С то индекс Джини будет больше единицы. Теряется его интерпретируемость (не только из-за того, что G>1 но и из-за самой возможности выхода кривой ниже нуля).\n",
    "\n",
    "Можно поробовать решить несколькими способами, описанными тут: [The Gini coefficient and the case of negative values](http://siba-ese.unisalento.it/index.php/ejasa/article/view/19223#:~:text=When%20negative%20values%20are%20included,maximum%20inside%20each%20particular%20situation)\n",
    "\n",
    "Например:\n",
    "- **Замена отрицательных значений нулями**. Мне не нравится данный способ, так как в некоторых признаках бОльшая часть значений отрицательная, что даже кумулятивная сумма получается отрицательной, заменив их все нулями мы сделаем очень большую \"несправедливость\" в доле кумулятивной суммы признака приходящуюся на долю наблюдений, из-за чего Gini будет большим. Результаты при использованнии этого способа: min(G)=0.7019, max(G)=0.7504, mean(G) = 0.7107\n",
    "- **Отброс отрицательных значений**. Результаты при использовании этого способа: min(G)=0.9999, max(G)=1, mean(G) = 0.99995\n",
    "- **Увеличить все значения на константу, чтобы все значения стали неотрицательными**. Результаты при использовании этого способа: min(G)=0.1204, max(G)=0.1273, mean(G) = 0.1211\n",
    "\n",
    "В зависимости от способа индексы джини сильно отличаются, я не буду рисковать и для признаков с отрицательными значениями скажу, что индекс не определен"
   ]
  },
  {
   "cell_type": "markdown",
   "id": "32073846-9c21-47e1-9c31-6a1a78b90d96",
   "metadata": {},
   "source": [
    "# WoE binning"
   ]
  },
  {
   "cell_type": "code",
   "execution_count": 17,
   "id": "29ee8555-496a-4e8b-8d13-793b898fadb4",
   "metadata": {},
   "outputs": [],
   "source": [
    "from optbinning import OptimalBinning, BinningProcess"
   ]
  },
  {
   "cell_type": "code",
   "execution_count": 18,
   "id": "dd357b5b-cfba-47d1-ab1c-6b5597e721cd",
   "metadata": {},
   "outputs": [],
   "source": [
    "def feature_informatives(data, target_feature, features_for_check, n=10):\n",
    "    '''\n",
    "    data - данные\n",
    "    target_feature - название целевой признака\n",
    "    features_for_check - массив названий признаков для проверки\n",
    "    n - кол-во строк в возвращаемом датафрейме\n",
    "    \n",
    "    Функция возвращает датафрейм из n признаков с наибольшим IV\\\n",
    "    '''\n",
    "    \n",
    "    columns=['Признак','IV','Интерпретация IV','Gini']\n",
    "    lst=[]\n",
    "    \n",
    "    y=data[target_feature]\n",
    "    x=data[features_for_check]\n",
    "    optb_proc = BinningProcess(variable_names=features_for_check, n_jobs=-1).fit(x, y)\n",
    "    for feature in tqdm(features_for_check):\n",
    "        optb_table = optb_proc.get_binned_variable(feature).binning_table.build()\n",
    "        IV = optb_table.loc['Totals','IV']\n",
    "        Gini = Gini_coef(x[feature])\n",
    "        if IV<0.02:\n",
    "            intpr = 'Бесполезен для предсказаний'\n",
    "        elif IV<0.1:\n",
    "            intpr = 'Слабая предсказательная сила'\n",
    "        elif IV<0.3:\n",
    "            intpr = 'Средняя предсказательная сила'\n",
    "        elif IV<0.5:\n",
    "            intpr = 'Сильная предсказательная сила'\n",
    "        else:\n",
    "            intpr = 'Подозрительно хорош'\n",
    "        lst.append([feature, IV, intpr, Gini])\n",
    "    df = pd.DataFrame(columns=columns, data=lst)\n",
    "    return df.sort_values(by='IV', ascending=False).head(n)"
   ]
  },
  {
   "cell_type": "code",
   "execution_count": 19,
   "id": "84cc6707-e224-47eb-b4f3-677b640cc659",
   "metadata": {},
   "outputs": [
    {
     "data": {
      "application/vnd.jupyter.widget-view+json": {
       "model_id": "03ebc0c65f024432a96b7694422f6cd1",
       "version_major": 2,
       "version_minor": 0
      },
      "text/plain": [
       "  0%|          | 0/30 [00:00<?, ?it/s]"
      ]
     },
     "metadata": {},
     "output_type": "display_data"
    }
   ],
   "source": [
    "res = feature_informatives(train, 'target' ,list(columns_))"
   ]
  },
  {
   "cell_type": "code",
   "execution_count": 20,
   "id": "02a92882-bfcf-4fa5-b153-5c7d99762eba",
   "metadata": {},
   "outputs": [
    {
     "data": {
      "text/html": [
       "<div>\n",
       "<style scoped>\n",
       "    .dataframe tbody tr th:only-of-type {\n",
       "        vertical-align: middle;\n",
       "    }\n",
       "\n",
       "    .dataframe tbody tr th {\n",
       "        vertical-align: top;\n",
       "    }\n",
       "\n",
       "    .dataframe thead th {\n",
       "        text-align: right;\n",
       "    }\n",
       "</style>\n",
       "<table border=\"1\" class=\"dataframe\">\n",
       "  <thead>\n",
       "    <tr style=\"text-align: right;\">\n",
       "      <th></th>\n",
       "      <th>Признак</th>\n",
       "      <th>IV</th>\n",
       "      <th>Интерпретация IV</th>\n",
       "      <th>Gini</th>\n",
       "    </tr>\n",
       "  </thead>\n",
       "  <tbody>\n",
       "    <tr>\n",
       "      <th>18</th>\n",
       "      <td>f_21</td>\n",
       "      <td>0.084819</td>\n",
       "      <td>Слабая предсказательная сила</td>\n",
       "      <td>Не определен</td>\n",
       "    </tr>\n",
       "    <tr>\n",
       "      <th>14</th>\n",
       "      <td>f_26</td>\n",
       "      <td>0.047056</td>\n",
       "      <td>Слабая предсказательная сила</td>\n",
       "      <td>Не определен</td>\n",
       "    </tr>\n",
       "    <tr>\n",
       "      <th>12</th>\n",
       "      <td>f_23</td>\n",
       "      <td>0.046339</td>\n",
       "      <td>Слабая предсказательная сила</td>\n",
       "      <td>Не определен</td>\n",
       "    </tr>\n",
       "    <tr>\n",
       "      <th>7</th>\n",
       "      <td>f_28</td>\n",
       "      <td>0.035075</td>\n",
       "      <td>Слабая предсказательная сила</td>\n",
       "      <td>Не определен</td>\n",
       "    </tr>\n",
       "    <tr>\n",
       "      <th>15</th>\n",
       "      <td>f_19</td>\n",
       "      <td>0.034324</td>\n",
       "      <td>Слабая предсказательная сила</td>\n",
       "      <td>Не определен</td>\n",
       "    </tr>\n",
       "    <tr>\n",
       "      <th>4</th>\n",
       "      <td>f_24</td>\n",
       "      <td>0.032960</td>\n",
       "      <td>Слабая предсказательная сила</td>\n",
       "      <td>Не определен</td>\n",
       "    </tr>\n",
       "    <tr>\n",
       "      <th>28</th>\n",
       "      <td>f_11</td>\n",
       "      <td>0.025675</td>\n",
       "      <td>Слабая предсказательная сила</td>\n",
       "      <td>0.458481</td>\n",
       "    </tr>\n",
       "    <tr>\n",
       "      <th>6</th>\n",
       "      <td>f_22</td>\n",
       "      <td>0.023734</td>\n",
       "      <td>Слабая предсказательная сила</td>\n",
       "      <td>Не определен</td>\n",
       "    </tr>\n",
       "    <tr>\n",
       "      <th>3</th>\n",
       "      <td>f_08</td>\n",
       "      <td>0.019338</td>\n",
       "      <td>Бесполезен для предсказаний</td>\n",
       "      <td>0.418074</td>\n",
       "    </tr>\n",
       "    <tr>\n",
       "      <th>13</th>\n",
       "      <td>f_09</td>\n",
       "      <td>0.017465</td>\n",
       "      <td>Бесполезен для предсказаний</td>\n",
       "      <td>0.378438</td>\n",
       "    </tr>\n",
       "  </tbody>\n",
       "</table>\n",
       "</div>"
      ],
      "text/plain": [
       "   Признак        IV              Интерпретация IV          Gini\n",
       "18    f_21  0.084819  Слабая предсказательная сила  Не определен\n",
       "14    f_26  0.047056  Слабая предсказательная сила  Не определен\n",
       "12    f_23  0.046339  Слабая предсказательная сила  Не определен\n",
       "7     f_28  0.035075  Слабая предсказательная сила  Не определен\n",
       "15    f_19  0.034324  Слабая предсказательная сила  Не определен\n",
       "4     f_24  0.032960  Слабая предсказательная сила  Не определен\n",
       "28    f_11  0.025675  Слабая предсказательная сила      0.458481\n",
       "6     f_22  0.023734  Слабая предсказательная сила  Не определен\n",
       "3     f_08  0.019338   Бесполезен для предсказаний      0.418074\n",
       "13    f_09  0.017465   Бесполезен для предсказаний      0.378438"
      ]
     },
     "execution_count": 20,
     "metadata": {},
     "output_type": "execute_result"
    }
   ],
   "source": [
    "res"
   ]
  },
  {
   "cell_type": "code",
   "execution_count": null,
   "id": "1d2b5663-7dd1-494e-be44-a9fbb1b110ba",
   "metadata": {},
   "outputs": [],
   "source": []
  },
  {
   "cell_type": "code",
   "execution_count": null,
   "id": "7e339331-1c9b-4a20-a49f-0cd94ae53fdf",
   "metadata": {},
   "outputs": [],
   "source": []
  },
  {
   "cell_type": "code",
   "execution_count": null,
   "id": "adbb6d51-8329-4e08-9fcb-4c98adc8c1ef",
   "metadata": {},
   "outputs": [],
   "source": []
  },
  {
   "cell_type": "markdown",
   "id": "29d7b5f8-1260-4d07-981f-766bdca7e83f",
   "metadata": {},
   "source": [
    "# UniCredit 3"
   ]
  },
  {
   "cell_type": "markdown",
   "id": "613aa95d-ae2a-4e1d-8cb8-b783d85bf585",
   "metadata": {},
   "source": [
    "- Категориальный признак f_27 использоваться не будет, потому что он слишком богатый для моего компьютера :/ \n",
    "- Реализуем жадный алгоритм отбора признаков по GINI"
   ]
  },
  {
   "cell_type": "code",
   "execution_count": 21,
   "id": "b6212aa8-7dfd-4efd-b680-8721916bf1d3",
   "metadata": {},
   "outputs": [],
   "source": [
    "from sklearn.linear_model import LogisticRegression\n",
    "from sklearn.model_selection import cross_val_score, StratifiedKFold"
   ]
  },
  {
   "cell_type": "code",
   "execution_count": 22,
   "id": "4ea5f056-af5c-4c85-8b3d-56a0f96793d1",
   "metadata": {},
   "outputs": [],
   "source": [
    "target = train.target\n",
    "train = train.drop(columns=['id','target','f_27'])"
   ]
  },
  {
   "cell_type": "code",
   "execution_count": 23,
   "id": "c31a77ce-ef22-4f68-9fce-f0572e15a85d",
   "metadata": {},
   "outputs": [],
   "source": [
    "def Gini_selection(model, data, target, epsilon = 0.01):\n",
    "    '''\n",
    "    model - модель по которой будет считать cross_val_score\n",
    "    data - данные\n",
    "    target - целевая переменная\n",
    "    epsilon - минимальный прирост в gini который должен быть с добавлением нового признака\n",
    "    \n",
    "    return:\n",
    "    Список признаков, которые дали наибольший средний джини\n",
    "    Значение джини\n",
    "    '''\n",
    "    all_features = data.columns\n",
    "    highest_gini_features_list = []\n",
    "    highest_gini = 0\n",
    "    while True:\n",
    "        features_list = []\n",
    "        gini_for_features_list = 0\n",
    "        for feature in set(all_features) - set(highest_gini_features_list):\n",
    "            current_features = highest_gini_features_list+[feature]\n",
    "            ginies = 2 * cross_val_score(estimator=model, X=train[current_features], y=target, cv=5, scoring = 'roc_auc') - 1\n",
    "            gini_mean = np.mean(ginies)\n",
    "            if gini_mean>gini_for_features_list:\n",
    "                gini_for_features_list = gini_mean\n",
    "                features_list = current_features\n",
    "        \n",
    "        if gini_for_features_list - highest_gini > epsilon:\n",
    "            print(f'Набор {features_list}, дал GINI = {round(gini_for_features_list,8)} (Прирост: {round(gini_for_features_list - highest_gini, 8)})')\n",
    "            highest_gini = gini_for_features_list\n",
    "            highest_gini_features_list = features_list\n",
    "        else:\n",
    "            break\n",
    "    return (highest_gini_features_list, highest_gini)"
   ]
  },
  {
   "cell_type": "code",
   "execution_count": 24,
   "id": "b8c4fa5c-b27e-4c7f-8960-fa314a5c2930",
   "metadata": {
    "tags": []
   },
   "outputs": [
    {
     "name": "stdout",
     "output_type": "stream",
     "text": [
      "Набор ['f_21'], дал GINI = 0.12876103 (Прирост: 0.12876103)\n",
      "Набор ['f_21', 'f_22'], дал GINI = 0.1791222 (Прирост: 0.05036117)\n",
      "Набор ['f_21', 'f_22', 'f_23'], дал GINI = 0.20487647 (Прирост: 0.02575427)\n",
      "Набор ['f_21', 'f_22', 'f_23', 'f_11'], дал GINI = 0.222463 (Прирост: 0.01758654)\n",
      "Набор ['f_21', 'f_22', 'f_23', 'f_11', 'f_19'], дал GINI = 0.2384891 (Прирост: 0.0160261)\n",
      "Набор ['f_21', 'f_22', 'f_23', 'f_11', 'f_19', 'f_09'], дал GINI = 0.24987697 (Прирост: 0.01138787)\n",
      "Набор ['f_21', 'f_22', 'f_23', 'f_11', 'f_19', 'f_09', 'f_29'], дал GINI = 0.26091075 (Прирост: 0.01103378)\n"
     ]
    },
    {
     "name": "stderr",
     "output_type": "stream",
     "text": [
      "C:\\Users\\egand\\anaconda3\\lib\\site-packages\\sklearn\\linear_model\\_logistic.py:814: ConvergenceWarning: lbfgs failed to converge (status=1):\n",
      "STOP: TOTAL NO. of ITERATIONS REACHED LIMIT.\n",
      "\n",
      "Increase the number of iterations (max_iter) or scale the data as shown in:\n",
      "    https://scikit-learn.org/stable/modules/preprocessing.html\n",
      "Please also refer to the documentation for alternative solver options:\n",
      "    https://scikit-learn.org/stable/modules/linear_model.html#logistic-regression\n",
      "  n_iter_i = _check_optimize_result(\n",
      "C:\\Users\\egand\\anaconda3\\lib\\site-packages\\sklearn\\linear_model\\_logistic.py:814: ConvergenceWarning: lbfgs failed to converge (status=1):\n",
      "STOP: TOTAL NO. of ITERATIONS REACHED LIMIT.\n",
      "\n",
      "Increase the number of iterations (max_iter) or scale the data as shown in:\n",
      "    https://scikit-learn.org/stable/modules/preprocessing.html\n",
      "Please also refer to the documentation for alternative solver options:\n",
      "    https://scikit-learn.org/stable/modules/linear_model.html#logistic-regression\n",
      "  n_iter_i = _check_optimize_result(\n",
      "C:\\Users\\egand\\anaconda3\\lib\\site-packages\\sklearn\\linear_model\\_logistic.py:814: ConvergenceWarning: lbfgs failed to converge (status=1):\n",
      "STOP: TOTAL NO. of ITERATIONS REACHED LIMIT.\n",
      "\n",
      "Increase the number of iterations (max_iter) or scale the data as shown in:\n",
      "    https://scikit-learn.org/stable/modules/preprocessing.html\n",
      "Please also refer to the documentation for alternative solver options:\n",
      "    https://scikit-learn.org/stable/modules/linear_model.html#logistic-regression\n",
      "  n_iter_i = _check_optimize_result(\n"
     ]
    }
   ],
   "source": [
    "lr = LogisticRegression()\n",
    "features, gini = Gini_selection(model = lr, data = train, target = target)"
   ]
  },
  {
   "cell_type": "code",
   "execution_count": 25,
   "id": "6d804788-6aac-4f10-9f12-373cc9479120",
   "metadata": {},
   "outputs": [
    {
     "data": {
      "text/plain": [
       "['f_21', 'f_22', 'f_23', 'f_11', 'f_19', 'f_09', 'f_29']"
      ]
     },
     "execution_count": 25,
     "metadata": {},
     "output_type": "execute_result"
    }
   ],
   "source": [
    "features"
   ]
  },
  {
   "cell_type": "code",
   "execution_count": 26,
   "id": "94c99fb1-50fd-449a-9bee-71e0114addf0",
   "metadata": {},
   "outputs": [
    {
     "data": {
      "text/plain": [
       "0.260910753177975"
      ]
     },
     "execution_count": 26,
     "metadata": {},
     "output_type": "execute_result"
    }
   ],
   "source": [
    "gini"
   ]
  }
 ],
 "metadata": {
  "kernelspec": {
   "display_name": "Python 3 (ipykernel)",
   "language": "python",
   "name": "python3"
  },
  "language_info": {
   "codemirror_mode": {
    "name": "ipython",
    "version": 3
   },
   "file_extension": ".py",
   "mimetype": "text/x-python",
   "name": "python",
   "nbconvert_exporter": "python",
   "pygments_lexer": "ipython3",
   "version": "3.9.12"
  }
 },
 "nbformat": 4,
 "nbformat_minor": 5
}
